{
 "cells": [
  {
   "cell_type": "code",
   "execution_count": 1,
   "metadata": {
    "execution": {
     "iopub.execute_input": "2025-04-27T11:55:39.261881Z",
     "iopub.status.busy": "2025-04-27T11:55:39.261572Z",
     "iopub.status.idle": "2025-04-27T11:55:44.895475Z",
     "shell.execute_reply": "2025-04-27T11:55:44.894841Z",
     "shell.execute_reply.started": "2025-04-27T11:55:39.261850Z"
    },
    "trusted": true
   },
   "outputs": [],
   "source": [
    "import torch\n",
    "import torch.nn as nn\n",
    "import torch.optim as optim\n",
    "from torch.utils.data import Dataset, DataLoader\n",
    "import torchvision.transforms as transforms\n",
    "from torchvision.datasets import ImageFolder\n",
    "import torch.nn.functional as F\n",
    "import numpy as np\n",
    "from tqdm import tqdm "
   ]
  },
  {
   "cell_type": "markdown",
   "metadata": {},
   "source": [
    "### #1: Dataset Class and Dataloader"
   ]
  },
  {
   "cell_type": "code",
   "execution_count": 2,
   "metadata": {
    "execution": {
     "iopub.execute_input": "2025-04-27T11:55:44.896499Z",
     "iopub.status.busy": "2025-04-27T11:55:44.896166Z",
     "iopub.status.idle": "2025-04-27T11:55:44.901083Z",
     "shell.execute_reply": "2025-04-27T11:55:44.900246Z",
     "shell.execute_reply.started": "2025-04-27T11:55:44.896476Z"
    },
    "trusted": true
   },
   "outputs": [],
   "source": [
    "class PalmsDataset(Dataset):\n",
    "    def __init__(self, data_dir, transform=None):\n",
    "        self.data = ImageFolder(data_dir,transform=transform)\n",
    "        self.transform=transform\n",
    "        \n",
    "    def __len__(self):\n",
    "        return len(self.data)\n",
    "    \n",
    "    def __getitem__(self, index):\n",
    "        return self.data[index]\n",
    "    \n",
    "    @property\n",
    "    def classes(self):\n",
    "        return self.data.classes"
   ]
  },
  {
   "cell_type": "code",
   "execution_count": 3,
   "metadata": {
    "execution": {
     "iopub.execute_input": "2025-04-27T11:55:44.902316Z",
     "iopub.status.busy": "2025-04-27T11:55:44.902042Z",
     "iopub.status.idle": "2025-04-27T11:55:44.919908Z",
     "shell.execute_reply": "2025-04-27T11:55:44.919041Z",
     "shell.execute_reply.started": "2025-04-27T11:55:44.902296Z"
    },
    "trusted": true
   },
   "outputs": [],
   "source": [
    "train_transform = transforms.Compose([\n",
    "    transforms.Resize((224,224)),\n",
    "    transforms.RandomHorizontalFlip(),\n",
    "    transforms.RandomRotation(15),\n",
    "    transforms.ToTensor(),\n",
    "])"
   ]
  },
  {
   "cell_type": "code",
   "execution_count": null,
   "metadata": {
    "execution": {
     "iopub.execute_input": "2025-04-27T11:55:44.922290Z",
     "iopub.status.busy": "2025-04-27T11:55:44.922039Z",
     "iopub.status.idle": "2025-04-27T11:55:46.451756Z",
     "shell.execute_reply": "2025-04-27T11:55:46.451035Z",
     "shell.execute_reply.started": "2025-04-27T11:55:44.922258Z"
    },
    "trusted": true
   },
   "outputs": [],
   "source": [
    "train_set = PalmsDataset(\"train\",transform=train_transform)"
   ]
  },
  {
   "cell_type": "markdown",
   "metadata": {},
   "source": [
    "#### Dataset vs Dataloader"
   ]
  },
  {
   "cell_type": "code",
   "execution_count": 5,
   "metadata": {
    "execution": {
     "iopub.execute_input": "2025-04-27T11:55:46.453183Z",
     "iopub.status.busy": "2025-04-27T11:55:46.452960Z",
     "iopub.status.idle": "2025-04-27T11:55:46.571100Z",
     "shell.execute_reply": "2025-04-27T11:55:46.570334Z",
     "shell.execute_reply.started": "2025-04-27T11:55:46.453165Z"
    },
    "trusted": true
   },
   "outputs": [
    {
     "data": {
      "text/plain": [
       "(torch.Size([3, 224, 224]), 0)"
      ]
     },
     "execution_count": 5,
     "metadata": {},
     "output_type": "execute_result"
    }
   ],
   "source": [
    "for image, label in train_set:\n",
    "    break\n",
    "\n",
    "image.shape, label"
   ]
  },
  {
   "cell_type": "code",
   "execution_count": 6,
   "metadata": {
    "execution": {
     "iopub.execute_input": "2025-04-27T11:55:46.572054Z",
     "iopub.status.busy": "2025-04-27T11:55:46.571828Z",
     "iopub.status.idle": "2025-04-27T11:55:46.575781Z",
     "shell.execute_reply": "2025-04-27T11:55:46.574971Z",
     "shell.execute_reply.started": "2025-04-27T11:55:46.572035Z"
    },
    "trusted": true
   },
   "outputs": [],
   "source": [
    "train_loader = DataLoader(batch_size=32, dataset=train_set, shuffle=True)"
   ]
  },
  {
   "cell_type": "markdown",
   "metadata": {},
   "source": [
    "### #2: Classifier"
   ]
  },
  {
   "cell_type": "code",
   "execution_count": null,
   "metadata": {
    "execution": {
     "iopub.execute_input": "2025-04-27T11:55:46.576794Z",
     "iopub.status.busy": "2025-04-27T11:55:46.576566Z",
     "iopub.status.idle": "2025-04-27T11:55:46.592912Z",
     "shell.execute_reply": "2025-04-27T11:55:46.592222Z",
     "shell.execute_reply.started": "2025-04-27T11:55:46.576775Z"
    },
    "trusted": true
   },
   "outputs": [],
   "source": [
    "class PalmDiseaseClassifier(nn.Module):\n",
    "    def __init__(self, number_of_classes=9):\n",
    "        super(PalmDiseaseClassifier, self).__init__()\n",
    "        \n",
    "        self.conv1 = nn.Conv2d(3, 32, kernel_size=3, padding=1, stride=1)\n",
    "        self.conv2 = nn.Conv2d(32, 64, kernel_size=3, padding=1, stride=1)\n",
    "        self.conv3 = nn.Conv2d(64, 128, kernel_size=3, padding=1, stride=1)\n",
    "        \n",
    "        self.bn1 = nn.BatchNorm2d(32)\n",
    "        self.bn2 = nn.BatchNorm2d(64)\n",
    "        self.bn3 = nn.BatchNorm2d(128)\n",
    "        \n",
    "        self.pool = nn.MaxPool2d(kernel_size=2, stride=2)\n",
    "        \n",
    "        self.drop1 = nn.Dropout(0.2)\n",
    "        self.fc1 = nn.Linear(128*28*28, number_of_classes)\n",
    "    \n",
    "    def forward(self, x):\n",
    "        x = F.relu(self.bn1(self.conv1(x)))\n",
    "        x = self.pool(x)\n",
    "        x = F.relu(self.bn2(self.conv2(x)))\n",
    "        x = self.pool(x)\n",
    "        x = F.relu(self.bn3(self.conv3(x)))\n",
    "        x = self.pool(x)\n",
    "        # print(x.shape) # to get the needed input size for fc1\n",
    "        \n",
    "        x = x.view(x.size(0), -1)\n",
    "        # print(x.shape)\n",
    "        x = self.drop1(x)\n",
    "        x = self.fc1(x)\n",
    "        \n",
    "        return x\n",
    "        \n",
    "        \n",
    "        "
   ]
  },
  {
   "cell_type": "code",
   "execution_count": null,
   "metadata": {
    "execution": {
     "iopub.execute_input": "2025-04-27T11:55:46.593917Z",
     "iopub.status.busy": "2025-04-27T11:55:46.593613Z",
     "iopub.status.idle": "2025-04-27T11:55:46.626621Z",
     "shell.execute_reply": "2025-04-27T11:55:46.625799Z",
     "shell.execute_reply.started": "2025-04-27T11:55:46.593890Z"
    },
    "trusted": true
   },
   "outputs": [],
   "source": [
    "model = PalmDiseaseClassifier()"
   ]
  },
  {
   "cell_type": "code",
   "execution_count": 9,
   "metadata": {
    "execution": {
     "iopub.execute_input": "2025-04-27T11:55:46.627840Z",
     "iopub.status.busy": "2025-04-27T11:55:46.627590Z",
     "iopub.status.idle": "2025-04-27T11:55:48.389676Z",
     "shell.execute_reply": "2025-04-27T11:55:48.388892Z",
     "shell.execute_reply.started": "2025-04-27T11:55:46.627820Z"
    },
    "trusted": true
   },
   "outputs": [
    {
     "data": {
      "text/plain": [
       "tensor([[-7.0882e-02, -5.1109e-01,  7.1248e-01, -6.6899e-01,  2.6139e-01,\n",
       "          1.6226e-01, -6.4960e-01,  1.0716e+00, -4.4262e-01],\n",
       "        [-5.8032e-01, -1.0455e+00,  1.8994e-01, -2.8990e-01,  3.7907e-01,\n",
       "         -6.9123e-01, -1.3212e-01, -8.6309e-02,  7.4228e-01],\n",
       "        [-8.0366e-01, -5.7059e-02,  1.1858e-02, -3.1909e-01, -1.2748e-01,\n",
       "          1.0562e+00, -1.0301e-01, -2.3994e-01,  2.0301e-01],\n",
       "        [-1.3421e-01,  2.9368e-01,  7.9003e-01, -2.7535e-01, -3.2956e-01,\n",
       "         -2.6141e-01,  1.6692e-01, -3.0124e-01, -7.2717e-01],\n",
       "        [-3.5331e-01,  1.6447e-01,  3.0154e-01, -1.1321e+00,  2.6669e-01,\n",
       "          4.8662e-01, -7.4506e-01,  4.9547e-01, -4.0434e-01],\n",
       "        [-5.3650e-01, -1.4516e-01,  3.3962e-01,  2.7971e-01,  5.5072e-01,\n",
       "          1.7346e-01, -8.1457e-03,  2.3874e-01,  3.8237e-01],\n",
       "        [-6.7001e-01, -9.7767e-01,  3.0849e-01, -1.2333e+00, -4.7234e-01,\n",
       "          8.2979e-02, -3.1822e-01,  1.0678e+00,  3.2823e-01],\n",
       "        [-2.4868e-01, -2.9906e-01,  4.7976e-01, -1.0696e+00, -1.8939e-01,\n",
       "          4.1056e-01, -6.7592e-01,  1.4885e+00, -1.4460e-01],\n",
       "        [ 1.1388e-02, -2.0052e-01,  5.2636e-01,  7.7055e-02,  3.1555e-01,\n",
       "         -2.0898e-01, -5.3094e-01,  4.6284e-01,  1.6472e-01],\n",
       "        [ 1.9966e-04, -7.6736e-01, -1.2969e-01, -3.5440e-01,  2.7608e-01,\n",
       "         -4.4774e-01,  4.6486e-01,  1.1931e-01, -6.4609e-03],\n",
       "        [-4.7181e-01, -5.6652e-01,  5.1264e-01, -2.5886e-01, -5.3144e-01,\n",
       "         -1.1112e+00,  1.1889e-02,  1.5283e-01,  1.1650e-01],\n",
       "        [-5.0963e-01, -4.7602e-01, -8.1074e-01, -6.9294e-01, -5.3668e-01,\n",
       "         -4.8170e-01, -1.7205e+00,  1.0350e+00,  9.0784e-03],\n",
       "        [-8.6965e-01,  7.0022e-02,  3.1667e-01, -6.8109e-01, -3.4414e-01,\n",
       "          9.6696e-02, -1.8185e-01,  7.8117e-01,  8.7341e-01],\n",
       "        [-4.0185e-01, -6.8593e-01, -4.8632e-01,  3.3031e-02, -1.0285e+00,\n",
       "          1.4744e-01, -1.2191e+00,  1.8021e-02, -3.7525e-01],\n",
       "        [ 7.6254e-01,  1.6050e-01, -1.0039e+00, -5.1037e-01,  3.7343e-01,\n",
       "         -3.4195e-01, -1.3902e+00,  2.8220e-01, -3.4394e-01],\n",
       "        [-8.0165e-01, -1.0286e+00, -1.5548e-01, -5.6271e-01,  3.9803e-01,\n",
       "         -3.6918e-01,  3.6160e-01, -7.1454e-01,  2.9692e-01],\n",
       "        [-1.3130e+00, -9.7910e-01, -1.6123e-01, -1.2776e+00, -2.0139e-01,\n",
       "          4.1088e-01, -1.3003e+00, -1.7817e-02, -7.7169e-02],\n",
       "        [-9.5814e-01, -2.6171e-01,  5.5793e-01, -9.0878e-01,  2.8135e-01,\n",
       "         -2.4796e-02, -3.9494e-01,  1.3306e+00,  6.0124e-01],\n",
       "        [-9.5138e-01, -5.9900e-01,  9.7920e-02,  1.9482e-01, -1.8798e-01,\n",
       "          9.5784e-02, -8.5148e-01,  1.6325e-01, -9.5524e-01],\n",
       "        [-5.6568e-01,  6.0358e-03,  1.0952e-01, -2.9179e-01, -4.6384e-01,\n",
       "         -9.0134e-02, -5.4621e-01, -7.0327e-01, -4.7579e-02],\n",
       "        [-8.2353e-01, -3.8847e-01, -2.7835e-01, -1.4437e+00, -6.3638e-01,\n",
       "          1.2587e-01, -2.5125e-01,  1.3797e-01, -5.3821e-01],\n",
       "        [-6.5179e-01, -9.4321e-01, -1.6568e-01, -1.0851e+00,  6.5441e-01,\n",
       "          5.0478e-01, -3.7709e-01,  3.0288e-01,  2.7190e-01],\n",
       "        [-8.0171e-01, -3.8377e-01,  9.4406e-01, -5.5548e-01,  3.7172e-01,\n",
       "          8.9510e-01, -1.4944e+00,  6.8229e-01, -2.2371e-01],\n",
       "        [-1.3598e-01, -9.6733e-01,  4.5762e-01, -1.1767e+00,  1.3939e+00,\n",
       "          8.2395e-02, -1.8790e+00, -2.9579e-01,  8.6107e-02],\n",
       "        [ 1.2804e-01,  4.3089e-01, -9.3485e-02, -1.0745e+00,  2.4322e-01,\n",
       "          5.6770e-01, -7.5634e-01, -4.9950e-01,  4.8844e-01],\n",
       "        [-6.5500e-01, -4.3712e-01, -3.1663e-02, -1.0598e+00,  5.9460e-01,\n",
       "         -6.7021e-01, -7.4275e-04, -2.2635e-01, -3.4252e-02],\n",
       "        [ 2.8045e-01,  6.1892e-01, -9.8580e-02, -2.9771e-01, -2.6690e-01,\n",
       "         -2.6325e-02, -6.9007e-01, -1.7291e-01,  1.6764e-01],\n",
       "        [-7.8412e-01,  2.1452e-01,  2.2877e-03, -3.8190e-01, -4.3642e-01,\n",
       "         -2.5460e-01, -1.8389e+00,  6.0700e-01, -4.8583e-01],\n",
       "        [ 2.8035e-02, -2.2315e-01, -8.0956e-02, -5.8240e-03,  5.6186e-01,\n",
       "         -3.3639e-01, -8.6471e-01,  1.0196e+00, -1.5289e-01],\n",
       "        [-6.2854e-01,  7.2044e-02, -5.0160e-01, -8.2642e-01,  3.9131e-02,\n",
       "          9.2472e-03, -1.1264e+00,  3.5080e-01,  1.0968e+00],\n",
       "        [-1.9612e+00,  1.7345e-01, -3.8542e-01, -6.4710e-01, -1.3788e+00,\n",
       "          5.5929e-01, -4.0607e-01,  5.8239e-01, -1.0443e-01],\n",
       "        [-8.5194e-02, -2.2295e-01,  1.5367e-01, -4.7914e-01, -3.2941e-02,\n",
       "         -3.0905e-01,  4.6992e-01,  4.3286e-01,  2.4776e-01]],\n",
       "       grad_fn=<AddmmBackward0>)"
      ]
     },
     "execution_count": 9,
     "metadata": {},
     "output_type": "execute_result"
    }
   ],
   "source": [
    "# the needed x shape for fc1\n",
    "# add print(x.shape) after the pool, then comment the fc1 and run the model on a batch\n",
    "# the output will be [batch size, channel, highet, width]. the input for fc will be C*H*W\n",
    "for x, y in train_loader:\n",
    "    break\n",
    "model(x)"
   ]
  },
  {
   "cell_type": "code",
   "execution_count": 13,
   "metadata": {
    "execution": {
     "iopub.execute_input": "2025-04-27T11:55:51.442100Z",
     "iopub.status.busy": "2025-04-27T11:55:51.441861Z",
     "iopub.status.idle": "2025-04-27T11:55:51.447005Z",
     "shell.execute_reply": "2025-04-27T11:55:51.446079Z",
     "shell.execute_reply.started": "2025-04-27T11:55:51.442080Z"
    },
    "trusted": true
   },
   "outputs": [
    {
     "name": "stdout",
     "output_type": "stream",
     "text": [
      "PalmClassifier(\n",
      "  (conv1): Conv2d(3, 32, kernel_size=(3, 3), stride=(1, 1), padding=(1, 1))\n",
      "  (conv2): Conv2d(32, 64, kernel_size=(3, 3), stride=(1, 1), padding=(1, 1))\n",
      "  (conv3): Conv2d(64, 128, kernel_size=(3, 3), stride=(1, 1), padding=(1, 1))\n",
      "  (bn1): BatchNorm2d(32, eps=1e-05, momentum=0.1, affine=True, track_running_stats=True)\n",
      "  (bn2): BatchNorm2d(64, eps=1e-05, momentum=0.1, affine=True, track_running_stats=True)\n",
      "  (bn3): BatchNorm2d(128, eps=1e-05, momentum=0.1, affine=True, track_running_stats=True)\n",
      "  (pool): MaxPool2d(kernel_size=2, stride=2, padding=0, dilation=1, ceil_mode=False)\n",
      "  (drop1): Dropout(p=0.2, inplace=False)\n",
      "  (fc1): Linear(in_features=100352, out_features=9, bias=True)\n",
      ")\n"
     ]
    }
   ],
   "source": [
    "print(str(model))"
   ]
  },
  {
   "cell_type": "code",
   "execution_count": 14,
   "metadata": {
    "execution": {
     "iopub.execute_input": "2025-04-27T11:55:51.448540Z",
     "iopub.status.busy": "2025-04-27T11:55:51.448315Z",
     "iopub.status.idle": "2025-04-27T11:55:51.461214Z",
     "shell.execute_reply": "2025-04-27T11:55:51.460506Z",
     "shell.execute_reply.started": "2025-04-27T11:55:51.448518Z"
    },
    "trusted": true
   },
   "outputs": [],
   "source": [
    "transform = transforms.Compose([\n",
    "    transforms.Resize((224,224)),\n",
    "    transforms.ToTensor()\n",
    "])"
   ]
  },
  {
   "cell_type": "code",
   "execution_count": null,
   "metadata": {
    "execution": {
     "iopub.execute_input": "2025-04-27T11:55:51.462112Z",
     "iopub.status.busy": "2025-04-27T11:55:51.461922Z",
     "iopub.status.idle": "2025-04-27T11:55:52.032175Z",
     "shell.execute_reply": "2025-04-27T11:55:52.031498Z",
     "shell.execute_reply.started": "2025-04-27T11:55:51.462096Z"
    },
    "trusted": true
   },
   "outputs": [],
   "source": [
    "val_dataset = PalmsDataset(\"valid\", transform=transform)\n",
    "test_dataset = PalmsDataset(\"test\", transform=transform)\n",
    "\n",
    "val_loader = DataLoader(val_dataset,batch_size=32, shuffle=False)\n",
    "test_loader = DataLoader(test_dataset, batch_size=32, shuffle=False)"
   ]
  },
  {
   "cell_type": "code",
   "execution_count": null,
   "metadata": {
    "execution": {
     "iopub.execute_input": "2025-04-27T11:55:52.033126Z",
     "iopub.status.busy": "2025-04-27T11:55:52.032924Z",
     "iopub.status.idle": "2025-04-27T11:55:52.036505Z",
     "shell.execute_reply": "2025-04-27T11:55:52.035701Z",
     "shell.execute_reply.started": "2025-04-27T11:55:52.033108Z"
    },
    "trusted": true
   },
   "outputs": [],
   "source": [
    "device = torch.device(\"cuda:0\")"
   ]
  },
  {
   "cell_type": "code",
   "execution_count": null,
   "metadata": {
    "execution": {
     "iopub.execute_input": "2025-04-27T11:55:52.037706Z",
     "iopub.status.busy": "2025-04-27T11:55:52.037404Z",
     "iopub.status.idle": "2025-04-27T11:55:52.269160Z",
     "shell.execute_reply": "2025-04-27T11:55:52.268223Z",
     "shell.execute_reply.started": "2025-04-27T11:55:52.037686Z"
    },
    "trusted": true
   },
   "outputs": [],
   "source": [
    "model = PalmDiseaseClassifier(number_of_classes=9).to(device=device)\n",
    "criterion = nn.CrossEntropyLoss()\n",
    "optimizer = optim.Adam(model.parameters(), lr=0.0001)"
   ]
  },
  {
   "cell_type": "code",
   "execution_count": null,
   "metadata": {
    "execution": {
     "iopub.execute_input": "2025-04-27T11:55:52.270355Z",
     "iopub.status.busy": "2025-04-27T11:55:52.270066Z",
     "iopub.status.idle": "2025-04-27T12:05:12.370278Z",
     "shell.execute_reply": "2025-04-27T12:05:12.369431Z",
     "shell.execute_reply.started": "2025-04-27T11:55:52.270328Z"
    },
    "trusted": true
   },
   "outputs": [
    {
     "name": "stderr",
     "output_type": "stream",
     "text": [
      "Epoch 1/50 (Train): 100%|██████████| 64/64 [00:21<00:00,  2.91it/s]\n",
      "Validating: 100%|██████████| 19/19 [00:05<00:00,  3.59it/s]\n"
     ]
    },
    {
     "name": "stdout",
     "output_type": "stream",
     "text": [
      "Epoch 1: Train Loss: 2.4977, Train Acc: 33.96% | Val Loss: 2.1183, Val Acc: 41.18%\n",
      "Saved new best model (Acc: 41.18%)\n"
     ]
    },
    {
     "name": "stderr",
     "output_type": "stream",
     "text": [
      "Epoch 2/50 (Train): 100%|██████████| 64/64 [00:08<00:00,  7.15it/s]\n",
      "Validating: 100%|██████████| 19/19 [00:01<00:00, 10.27it/s]\n"
     ]
    },
    {
     "name": "stdout",
     "output_type": "stream",
     "text": [
      "Epoch 2: Train Loss: 1.5807, Train Acc: 46.73% | Val Loss: 1.3979, Val Acc: 57.96%\n",
      "Saved new best model (Acc: 57.96%)\n"
     ]
    },
    {
     "name": "stderr",
     "output_type": "stream",
     "text": [
      "Epoch 3/50 (Train): 100%|██████████| 64/64 [00:09<00:00,  6.89it/s]\n",
      "Validating: 100%|██████████| 19/19 [00:01<00:00,  9.90it/s]\n"
     ]
    },
    {
     "name": "stdout",
     "output_type": "stream",
     "text": [
      "Epoch 3: Train Loss: 1.4632, Train Acc: 53.37% | Val Loss: 1.3712, Val Acc: 58.48%\n",
      "Saved new best model (Acc: 58.48%)\n"
     ]
    },
    {
     "name": "stderr",
     "output_type": "stream",
     "text": [
      "Epoch 4/50 (Train): 100%|██████████| 64/64 [00:08<00:00,  7.12it/s]\n",
      "Validating: 100%|██████████| 19/19 [00:01<00:00, 10.25it/s]\n"
     ]
    },
    {
     "name": "stdout",
     "output_type": "stream",
     "text": [
      "Epoch 4: Train Loss: 1.3810, Train Acc: 55.45% | Val Loss: 1.6363, Val Acc: 51.56%\n"
     ]
    },
    {
     "name": "stderr",
     "output_type": "stream",
     "text": [
      "Epoch 5/50 (Train): 100%|██████████| 64/64 [00:08<00:00,  7.13it/s]\n",
      "Validating: 100%|██████████| 19/19 [00:01<00:00, 10.61it/s]\n"
     ]
    },
    {
     "name": "stdout",
     "output_type": "stream",
     "text": [
      "Epoch 5: Train Loss: 1.3421, Train Acc: 58.32% | Val Loss: 1.1761, Val Acc: 62.28%\n",
      "Saved new best model (Acc: 62.28%)\n"
     ]
    },
    {
     "name": "stderr",
     "output_type": "stream",
     "text": [
      "Epoch 6/50 (Train): 100%|██████████| 64/64 [00:09<00:00,  7.07it/s]\n",
      "Validating: 100%|██████████| 19/19 [00:01<00:00, 10.35it/s]\n"
     ]
    },
    {
     "name": "stdout",
     "output_type": "stream",
     "text": [
      "Epoch 6: Train Loss: 1.0942, Train Acc: 63.27% | Val Loss: 1.3756, Val Acc: 56.92%\n"
     ]
    },
    {
     "name": "stderr",
     "output_type": "stream",
     "text": [
      "Epoch 7/50 (Train): 100%|██████████| 64/64 [00:08<00:00,  7.18it/s]\n",
      "Validating: 100%|██████████| 19/19 [00:01<00:00,  9.85it/s]\n"
     ]
    },
    {
     "name": "stdout",
     "output_type": "stream",
     "text": [
      "Epoch 7: Train Loss: 1.0392, Train Acc: 66.24% | Val Loss: 1.2590, Val Acc: 60.90%\n"
     ]
    },
    {
     "name": "stderr",
     "output_type": "stream",
     "text": [
      "Epoch 8/50 (Train): 100%|██████████| 64/64 [00:09<00:00,  7.05it/s]\n",
      "Validating: 100%|██████████| 19/19 [00:01<00:00, 10.30it/s]\n"
     ]
    },
    {
     "name": "stdout",
     "output_type": "stream",
     "text": [
      "Epoch 8: Train Loss: 0.9593, Train Acc: 68.42% | Val Loss: 1.3257, Val Acc: 60.55%\n"
     ]
    },
    {
     "name": "stderr",
     "output_type": "stream",
     "text": [
      "Epoch 9/50 (Train): 100%|██████████| 64/64 [00:09<00:00,  7.00it/s]\n",
      "Validating: 100%|██████████| 19/19 [00:01<00:00, 10.44it/s]\n"
     ]
    },
    {
     "name": "stdout",
     "output_type": "stream",
     "text": [
      "Epoch 9: Train Loss: 0.9958, Train Acc: 67.87% | Val Loss: 1.4412, Val Acc: 62.11%\n"
     ]
    },
    {
     "name": "stderr",
     "output_type": "stream",
     "text": [
      "Epoch 10/50 (Train): 100%|██████████| 64/64 [00:08<00:00,  7.15it/s]\n",
      "Validating: 100%|██████████| 19/19 [00:01<00:00, 10.41it/s]\n"
     ]
    },
    {
     "name": "stdout",
     "output_type": "stream",
     "text": [
      "Epoch 10: Train Loss: 0.8637, Train Acc: 71.78% | Val Loss: 1.0932, Val Acc: 65.74%\n",
      "Saved new best model (Acc: 65.74%)\n"
     ]
    },
    {
     "name": "stderr",
     "output_type": "stream",
     "text": [
      "Epoch 11/50 (Train): 100%|██████████| 64/64 [00:08<00:00,  7.26it/s]\n",
      "Validating: 100%|██████████| 19/19 [00:01<00:00, 10.33it/s]\n"
     ]
    },
    {
     "name": "stdout",
     "output_type": "stream",
     "text": [
      "Epoch 11: Train Loss: 0.7217, Train Acc: 76.09% | Val Loss: 1.5649, Val Acc: 61.25%\n"
     ]
    },
    {
     "name": "stderr",
     "output_type": "stream",
     "text": [
      "Epoch 12/50 (Train): 100%|██████████| 64/64 [00:08<00:00,  7.12it/s]\n",
      "Validating: 100%|██████████| 19/19 [00:01<00:00, 10.70it/s]\n"
     ]
    },
    {
     "name": "stdout",
     "output_type": "stream",
     "text": [
      "Epoch 12: Train Loss: 0.8017, Train Acc: 73.47% | Val Loss: 1.0519, Val Acc: 67.82%\n",
      "Saved new best model (Acc: 67.82%)\n"
     ]
    },
    {
     "name": "stderr",
     "output_type": "stream",
     "text": [
      "Epoch 13/50 (Train): 100%|██████████| 64/64 [00:08<00:00,  7.28it/s]\n",
      "Validating: 100%|██████████| 19/19 [00:01<00:00, 10.26it/s]\n"
     ]
    },
    {
     "name": "stdout",
     "output_type": "stream",
     "text": [
      "Epoch 13: Train Loss: 0.6989, Train Acc: 76.04% | Val Loss: 1.2065, Val Acc: 63.32%\n"
     ]
    },
    {
     "name": "stderr",
     "output_type": "stream",
     "text": [
      "Epoch 14/50 (Train): 100%|██████████| 64/64 [00:08<00:00,  7.23it/s]\n",
      "Validating: 100%|██████████| 19/19 [00:01<00:00, 10.62it/s]\n"
     ]
    },
    {
     "name": "stdout",
     "output_type": "stream",
     "text": [
      "Epoch 14: Train Loss: 0.6247, Train Acc: 78.17% | Val Loss: 1.0535, Val Acc: 69.55%\n",
      "Saved new best model (Acc: 69.55%)\n"
     ]
    },
    {
     "name": "stderr",
     "output_type": "stream",
     "text": [
      "Epoch 15/50 (Train): 100%|██████████| 64/64 [00:08<00:00,  7.11it/s]\n",
      "Validating: 100%|██████████| 19/19 [00:01<00:00, 10.15it/s]\n"
     ]
    },
    {
     "name": "stdout",
     "output_type": "stream",
     "text": [
      "Epoch 15: Train Loss: 0.7585, Train Acc: 76.73% | Val Loss: 1.0458, Val Acc: 68.69%\n"
     ]
    },
    {
     "name": "stderr",
     "output_type": "stream",
     "text": [
      "Epoch 16/50 (Train): 100%|██████████| 64/64 [00:08<00:00,  7.30it/s]\n",
      "Validating: 100%|██████████| 19/19 [00:01<00:00, 10.15it/s]\n"
     ]
    },
    {
     "name": "stdout",
     "output_type": "stream",
     "text": [
      "Epoch 16: Train Loss: 0.7545, Train Acc: 75.05% | Val Loss: 0.9797, Val Acc: 72.49%\n",
      "Saved new best model (Acc: 72.49%)\n"
     ]
    },
    {
     "name": "stderr",
     "output_type": "stream",
     "text": [
      "Epoch 17/50 (Train): 100%|██████████| 64/64 [00:08<00:00,  7.31it/s]\n",
      "Validating: 100%|██████████| 19/19 [00:01<00:00, 10.72it/s]\n"
     ]
    },
    {
     "name": "stdout",
     "output_type": "stream",
     "text": [
      "Epoch 17: Train Loss: 0.4924, Train Acc: 83.27% | Val Loss: 1.0222, Val Acc: 74.05%\n",
      "Saved new best model (Acc: 74.05%)\n"
     ]
    },
    {
     "name": "stderr",
     "output_type": "stream",
     "text": [
      "Epoch 18/50 (Train): 100%|██████████| 64/64 [00:08<00:00,  7.18it/s]\n",
      "Validating: 100%|██████████| 19/19 [00:01<00:00, 10.67it/s]\n"
     ]
    },
    {
     "name": "stdout",
     "output_type": "stream",
     "text": [
      "Epoch 18: Train Loss: 0.5767, Train Acc: 80.59% | Val Loss: 0.9255, Val Acc: 73.01%\n"
     ]
    },
    {
     "name": "stderr",
     "output_type": "stream",
     "text": [
      "Epoch 19/50 (Train): 100%|██████████| 64/64 [00:08<00:00,  7.20it/s]\n",
      "Validating: 100%|██████████| 19/19 [00:01<00:00, 10.22it/s]\n"
     ]
    },
    {
     "name": "stdout",
     "output_type": "stream",
     "text": [
      "Epoch 19: Train Loss: 0.5236, Train Acc: 82.23% | Val Loss: 1.0579, Val Acc: 76.99%\n",
      "Saved new best model (Acc: 76.99%)\n"
     ]
    },
    {
     "name": "stderr",
     "output_type": "stream",
     "text": [
      "Epoch 20/50 (Train): 100%|██████████| 64/64 [00:09<00:00,  7.03it/s]\n",
      "Validating: 100%|██████████| 19/19 [00:01<00:00,  9.56it/s]\n"
     ]
    },
    {
     "name": "stdout",
     "output_type": "stream",
     "text": [
      "Epoch 20: Train Loss: 0.4812, Train Acc: 84.50% | Val Loss: 0.9338, Val Acc: 72.66%\n"
     ]
    },
    {
     "name": "stderr",
     "output_type": "stream",
     "text": [
      "Epoch 21/50 (Train): 100%|██████████| 64/64 [00:09<00:00,  7.06it/s]\n",
      "Validating: 100%|██████████| 19/19 [00:01<00:00, 10.60it/s]\n"
     ]
    },
    {
     "name": "stdout",
     "output_type": "stream",
     "text": [
      "Epoch 21: Train Loss: 0.5837, Train Acc: 82.28% | Val Loss: 0.9185, Val Acc: 73.88%\n"
     ]
    },
    {
     "name": "stderr",
     "output_type": "stream",
     "text": [
      "Epoch 22/50 (Train): 100%|██████████| 64/64 [00:08<00:00,  7.24it/s]\n",
      "Validating: 100%|██████████| 19/19 [00:01<00:00, 10.35it/s]\n"
     ]
    },
    {
     "name": "stdout",
     "output_type": "stream",
     "text": [
      "Epoch 22: Train Loss: 0.4657, Train Acc: 83.42% | Val Loss: 0.8666, Val Acc: 72.15%\n"
     ]
    },
    {
     "name": "stderr",
     "output_type": "stream",
     "text": [
      "Epoch 23/50 (Train): 100%|██████████| 64/64 [00:08<00:00,  7.37it/s]\n",
      "Validating: 100%|██████████| 19/19 [00:01<00:00, 10.97it/s]\n"
     ]
    },
    {
     "name": "stdout",
     "output_type": "stream",
     "text": [
      "Epoch 23: Train Loss: 0.3863, Train Acc: 87.62% | Val Loss: 1.0726, Val Acc: 72.49%\n"
     ]
    },
    {
     "name": "stderr",
     "output_type": "stream",
     "text": [
      "Epoch 24/50 (Train): 100%|██████████| 64/64 [00:08<00:00,  7.17it/s]\n",
      "Validating: 100%|██████████| 19/19 [00:01<00:00, 10.83it/s]\n"
     ]
    },
    {
     "name": "stdout",
     "output_type": "stream",
     "text": [
      "Epoch 24: Train Loss: 0.4431, Train Acc: 84.85% | Val Loss: 1.2126, Val Acc: 64.71%\n"
     ]
    },
    {
     "name": "stderr",
     "output_type": "stream",
     "text": [
      "Epoch 25/50 (Train): 100%|██████████| 64/64 [00:09<00:00,  7.06it/s]\n",
      "Validating: 100%|██████████| 19/19 [00:01<00:00, 10.93it/s]\n"
     ]
    },
    {
     "name": "stdout",
     "output_type": "stream",
     "text": [
      "Epoch 25: Train Loss: 0.3961, Train Acc: 88.32% | Val Loss: 1.0409, Val Acc: 70.42%\n"
     ]
    },
    {
     "name": "stderr",
     "output_type": "stream",
     "text": [
      "Epoch 26/50 (Train): 100%|██████████| 64/64 [00:08<00:00,  7.25it/s]\n",
      "Validating: 100%|██████████| 19/19 [00:01<00:00, 10.50it/s]\n"
     ]
    },
    {
     "name": "stdout",
     "output_type": "stream",
     "text": [
      "Epoch 26: Train Loss: 0.3978, Train Acc: 86.49% | Val Loss: 0.8402, Val Acc: 78.37%\n",
      "Saved new best model (Acc: 78.37%)\n"
     ]
    },
    {
     "name": "stderr",
     "output_type": "stream",
     "text": [
      "Epoch 27/50 (Train): 100%|██████████| 64/64 [00:09<00:00,  6.72it/s]\n",
      "Validating: 100%|██████████| 19/19 [00:01<00:00,  9.52it/s]\n"
     ]
    },
    {
     "name": "stdout",
     "output_type": "stream",
     "text": [
      "Epoch 27: Train Loss: 0.3484, Train Acc: 87.87% | Val Loss: 1.3456, Val Acc: 68.69%\n"
     ]
    },
    {
     "name": "stderr",
     "output_type": "stream",
     "text": [
      "Epoch 28/50 (Train): 100%|██████████| 64/64 [00:09<00:00,  7.10it/s]\n",
      "Validating: 100%|██████████| 19/19 [00:01<00:00, 10.54it/s]\n"
     ]
    },
    {
     "name": "stdout",
     "output_type": "stream",
     "text": [
      "Epoch 28: Train Loss: 0.4395, Train Acc: 84.85% | Val Loss: 1.0541, Val Acc: 74.22%\n"
     ]
    },
    {
     "name": "stderr",
     "output_type": "stream",
     "text": [
      "Epoch 29/50 (Train): 100%|██████████| 64/64 [00:08<00:00,  7.34it/s]\n",
      "Validating: 100%|██████████| 19/19 [00:01<00:00,  9.98it/s]\n"
     ]
    },
    {
     "name": "stdout",
     "output_type": "stream",
     "text": [
      "Epoch 29: Train Loss: 0.2589, Train Acc: 90.99% | Val Loss: 0.9467, Val Acc: 77.34%\n"
     ]
    },
    {
     "name": "stderr",
     "output_type": "stream",
     "text": [
      "Epoch 30/50 (Train): 100%|██████████| 64/64 [00:09<00:00,  7.09it/s]\n",
      "Validating: 100%|██████████| 19/19 [00:01<00:00,  9.69it/s]\n"
     ]
    },
    {
     "name": "stdout",
     "output_type": "stream",
     "text": [
      "Epoch 30: Train Loss: 0.3178, Train Acc: 89.41% | Val Loss: 0.9810, Val Acc: 76.30%\n"
     ]
    },
    {
     "name": "stderr",
     "output_type": "stream",
     "text": [
      "Epoch 31/50 (Train): 100%|██████████| 64/64 [00:09<00:00,  6.96it/s]\n",
      "Validating: 100%|██████████| 19/19 [00:01<00:00, 10.10it/s]\n"
     ]
    },
    {
     "name": "stdout",
     "output_type": "stream",
     "text": [
      "Epoch 31: Train Loss: 0.3382, Train Acc: 89.36% | Val Loss: 1.0659, Val Acc: 73.18%\n"
     ]
    },
    {
     "name": "stderr",
     "output_type": "stream",
     "text": [
      "Epoch 32/50 (Train): 100%|██████████| 64/64 [00:09<00:00,  7.03it/s]\n",
      "Validating: 100%|██████████| 19/19 [00:02<00:00,  8.68it/s]\n"
     ]
    },
    {
     "name": "stdout",
     "output_type": "stream",
     "text": [
      "Epoch 32: Train Loss: 0.4356, Train Acc: 87.13% | Val Loss: 1.3743, Val Acc: 62.46%\n"
     ]
    },
    {
     "name": "stderr",
     "output_type": "stream",
     "text": [
      "Epoch 33/50 (Train): 100%|██████████| 64/64 [00:08<00:00,  7.17it/s]\n",
      "Validating: 100%|██████████| 19/19 [00:01<00:00, 10.35it/s]\n"
     ]
    },
    {
     "name": "stdout",
     "output_type": "stream",
     "text": [
      "Epoch 33: Train Loss: 0.6938, Train Acc: 81.44% | Val Loss: 1.1121, Val Acc: 71.45%\n"
     ]
    },
    {
     "name": "stderr",
     "output_type": "stream",
     "text": [
      "Epoch 34/50 (Train): 100%|██████████| 64/64 [00:08<00:00,  7.21it/s]\n",
      "Validating: 100%|██████████| 19/19 [00:01<00:00, 10.70it/s]\n"
     ]
    },
    {
     "name": "stdout",
     "output_type": "stream",
     "text": [
      "Epoch 34: Train Loss: 0.3255, Train Acc: 88.86% | Val Loss: 1.1213, Val Acc: 75.78%\n"
     ]
    },
    {
     "name": "stderr",
     "output_type": "stream",
     "text": [
      "Epoch 35/50 (Train): 100%|██████████| 64/64 [00:09<00:00,  7.08it/s]\n",
      "Validating: 100%|██████████| 19/19 [00:02<00:00,  9.09it/s]\n"
     ]
    },
    {
     "name": "stdout",
     "output_type": "stream",
     "text": [
      "Epoch 35: Train Loss: 0.3085, Train Acc: 90.15% | Val Loss: 1.1512, Val Acc: 73.36%\n"
     ]
    },
    {
     "name": "stderr",
     "output_type": "stream",
     "text": [
      "Epoch 36/50 (Train): 100%|██████████| 64/64 [00:09<00:00,  7.08it/s]\n",
      "Validating: 100%|██████████| 19/19 [00:01<00:00, 10.43it/s]\n"
     ]
    },
    {
     "name": "stdout",
     "output_type": "stream",
     "text": [
      "Epoch 36: Train Loss: 0.4813, Train Acc: 85.40% | Val Loss: 0.8681, Val Acc: 78.37%\n"
     ]
    },
    {
     "name": "stderr",
     "output_type": "stream",
     "text": [
      "Epoch 37/50 (Train): 100%|██████████| 64/64 [00:09<00:00,  6.98it/s]\n",
      "Validating: 100%|██████████| 19/19 [00:01<00:00,  9.70it/s]\n"
     ]
    },
    {
     "name": "stdout",
     "output_type": "stream",
     "text": [
      "Epoch 37: Train Loss: 0.2833, Train Acc: 90.25% | Val Loss: 1.0672, Val Acc: 76.82%\n"
     ]
    },
    {
     "name": "stderr",
     "output_type": "stream",
     "text": [
      "Epoch 38/50 (Train): 100%|██████████| 64/64 [00:09<00:00,  6.93it/s]\n",
      "Validating: 100%|██████████| 19/19 [00:01<00:00,  9.86it/s]\n"
     ]
    },
    {
     "name": "stdout",
     "output_type": "stream",
     "text": [
      "Epoch 38: Train Loss: 0.2185, Train Acc: 92.13% | Val Loss: 1.1392, Val Acc: 75.95%\n"
     ]
    },
    {
     "name": "stderr",
     "output_type": "stream",
     "text": [
      "Epoch 39/50 (Train): 100%|██████████| 64/64 [00:09<00:00,  7.08it/s]\n",
      "Validating: 100%|██████████| 19/19 [00:01<00:00, 10.69it/s]\n"
     ]
    },
    {
     "name": "stdout",
     "output_type": "stream",
     "text": [
      "Epoch 39: Train Loss: 0.2307, Train Acc: 92.23% | Val Loss: 0.9107, Val Acc: 72.32%\n"
     ]
    },
    {
     "name": "stderr",
     "output_type": "stream",
     "text": [
      "Epoch 40/50 (Train): 100%|██████████| 64/64 [00:08<00:00,  7.15it/s]\n",
      "Validating: 100%|██████████| 19/19 [00:01<00:00, 10.66it/s]\n"
     ]
    },
    {
     "name": "stdout",
     "output_type": "stream",
     "text": [
      "Epoch 40: Train Loss: 0.2341, Train Acc: 92.87% | Val Loss: 0.9948, Val Acc: 76.47%\n"
     ]
    },
    {
     "name": "stderr",
     "output_type": "stream",
     "text": [
      "Epoch 41/50 (Train): 100%|██████████| 64/64 [00:09<00:00,  7.02it/s]\n",
      "Validating: 100%|██████████| 19/19 [00:01<00:00, 10.31it/s]\n"
     ]
    },
    {
     "name": "stdout",
     "output_type": "stream",
     "text": [
      "Epoch 41: Train Loss: 0.2178, Train Acc: 91.98% | Val Loss: 0.8358, Val Acc: 80.45%\n",
      "Saved new best model (Acc: 80.45%)\n"
     ]
    },
    {
     "name": "stderr",
     "output_type": "stream",
     "text": [
      "Epoch 42/50 (Train): 100%|██████████| 64/64 [00:09<00:00,  7.02it/s]\n",
      "Validating: 100%|██████████| 19/19 [00:01<00:00, 10.61it/s]\n"
     ]
    },
    {
     "name": "stdout",
     "output_type": "stream",
     "text": [
      "Epoch 42: Train Loss: 0.2133, Train Acc: 93.42% | Val Loss: 0.9994, Val Acc: 76.99%\n"
     ]
    },
    {
     "name": "stderr",
     "output_type": "stream",
     "text": [
      "Epoch 43/50 (Train): 100%|██████████| 64/64 [00:09<00:00,  6.87it/s]\n",
      "Validating: 100%|██████████| 19/19 [00:01<00:00, 10.40it/s]\n"
     ]
    },
    {
     "name": "stdout",
     "output_type": "stream",
     "text": [
      "Epoch 43: Train Loss: 0.2511, Train Acc: 91.19% | Val Loss: 1.2275, Val Acc: 72.84%\n"
     ]
    },
    {
     "name": "stderr",
     "output_type": "stream",
     "text": [
      "Epoch 44/50 (Train): 100%|██████████| 64/64 [00:08<00:00,  7.17it/s]\n",
      "Validating: 100%|██████████| 19/19 [00:01<00:00, 10.29it/s]\n"
     ]
    },
    {
     "name": "stdout",
     "output_type": "stream",
     "text": [
      "Epoch 44: Train Loss: 0.3912, Train Acc: 87.82% | Val Loss: 1.0213, Val Acc: 77.85%\n"
     ]
    },
    {
     "name": "stderr",
     "output_type": "stream",
     "text": [
      "Epoch 45/50 (Train): 100%|██████████| 64/64 [00:09<00:00,  7.09it/s]\n",
      "Validating: 100%|██████████| 19/19 [00:01<00:00, 10.64it/s]\n"
     ]
    },
    {
     "name": "stdout",
     "output_type": "stream",
     "text": [
      "Epoch 45: Train Loss: 0.2106, Train Acc: 93.32% | Val Loss: 1.1308, Val Acc: 75.43%\n"
     ]
    },
    {
     "name": "stderr",
     "output_type": "stream",
     "text": [
      "Epoch 46/50 (Train): 100%|██████████| 64/64 [00:08<00:00,  7.17it/s]\n",
      "Validating: 100%|██████████| 19/19 [00:01<00:00, 10.38it/s]\n"
     ]
    },
    {
     "name": "stdout",
     "output_type": "stream",
     "text": [
      "Epoch 46: Train Loss: 0.2863, Train Acc: 90.64% | Val Loss: 1.0472, Val Acc: 75.26%\n"
     ]
    },
    {
     "name": "stderr",
     "output_type": "stream",
     "text": [
      "Epoch 47/50 (Train): 100%|██████████| 64/64 [00:09<00:00,  6.97it/s]\n",
      "Validating: 100%|██████████| 19/19 [00:01<00:00,  9.82it/s]\n"
     ]
    },
    {
     "name": "stdout",
     "output_type": "stream",
     "text": [
      "Epoch 47: Train Loss: 0.2235, Train Acc: 93.12% | Val Loss: 0.9045, Val Acc: 79.93%\n"
     ]
    },
    {
     "name": "stderr",
     "output_type": "stream",
     "text": [
      "Epoch 48/50 (Train): 100%|██████████| 64/64 [00:09<00:00,  7.02it/s]\n",
      "Validating: 100%|██████████| 19/19 [00:01<00:00, 10.44it/s]\n"
     ]
    },
    {
     "name": "stdout",
     "output_type": "stream",
     "text": [
      "Epoch 48: Train Loss: 0.1691, Train Acc: 93.96% | Val Loss: 1.1335, Val Acc: 75.78%\n"
     ]
    },
    {
     "name": "stderr",
     "output_type": "stream",
     "text": [
      "Epoch 49/50 (Train): 100%|██████████| 64/64 [00:09<00:00,  6.95it/s]\n",
      "Validating: 100%|██████████| 19/19 [00:01<00:00, 10.14it/s]\n"
     ]
    },
    {
     "name": "stdout",
     "output_type": "stream",
     "text": [
      "Epoch 49: Train Loss: 0.1593, Train Acc: 94.36% | Val Loss: 1.2050, Val Acc: 73.18%\n"
     ]
    },
    {
     "name": "stderr",
     "output_type": "stream",
     "text": [
      "Epoch 50/50 (Train): 100%|██████████| 64/64 [00:09<00:00,  7.07it/s]\n",
      "Validating: 100%|██████████| 19/19 [00:01<00:00,  9.68it/s]"
     ]
    },
    {
     "name": "stdout",
     "output_type": "stream",
     "text": [
      "Epoch 50: Train Loss: 0.1982, Train Acc: 93.66% | Val Loss: 1.1035, Val Acc: 76.99%\n"
     ]
    },
    {
     "name": "stderr",
     "output_type": "stream",
     "text": [
      "\n"
     ]
    }
   ],
   "source": [
    "def train_model(model, train_loader, val_loader, criterion, optimizer, epochs=25):\n",
    "    best_acc = 0.0\n",
    "    \n",
    "    for epoch in range(epochs):\n",
    "        model.train()\n",
    "        running_loss = 0.0\n",
    "        correct = 0\n",
    "        total = 0\n",
    "        \n",
    "        for images, labels in tqdm(train_loader, desc=f\"Epoch {epoch+1}/{epochs} (Train)\"):\n",
    "            images, labels = images.to(device), labels.to(device)\n",
    "            \n",
    "            outputs = model(images)\n",
    "            loss = criterion(outputs, labels)\n",
    "            \n",
    "            optimizer.zero_grad()\n",
    "            loss.backward()\n",
    "            optimizer.step()\n",
    "            \n",
    "            running_loss += loss.item()\n",
    "            _, predicted = torch.max(outputs.data, 1)\n",
    "            total += labels.size(0)\n",
    "            correct += (predicted == labels).sum().item()\n",
    "        \n",
    "        train_loss = running_loss / len(train_loader)\n",
    "        train_acc = 100 * correct / total\n",
    "        \n",
    "        val_loss, val_acc = validate(model, val_loader, criterion)\n",
    "        \n",
    "        print(f\"Epoch {epoch+1}: \"\n",
    "              f\"Train Loss: {train_loss:.4f}, Train Acc: {train_acc:.2f}% | \"\n",
    "              f\"Val Loss: {val_loss:.4f}, Val Acc: {val_acc:.2f}%\")\n",
    "        \n",
    "        if val_acc > best_acc:\n",
    "            best_acc = val_acc\n",
    "            torch.save(model.state_dict(), 'best_palm_cnn_temp.pth')\n",
    "            print(f\"Saved new best model (Acc: {best_acc:.2f}%)\")\n",
    "\n",
    "def validate(model, val_loader, criterion):\n",
    "    model.eval()\n",
    "    running_loss = 0.0\n",
    "    correct = 0\n",
    "    total = 0\n",
    "    \n",
    "    with torch.no_grad():\n",
    "        for images, labels in tqdm(val_loader, desc=\"Validating\"):\n",
    "            images, labels = images.to(device), labels.to(device)\n",
    "            outputs = model(images)\n",
    "            loss = criterion(outputs, labels)\n",
    "            \n",
    "            running_loss += loss.item()\n",
    "            _, predicted = torch.max(outputs.data, 1)\n",
    "            total += labels.size(0)\n",
    "            correct += (predicted == labels).sum().item()\n",
    "    \n",
    "    val_loss = running_loss / len(val_loader)\n",
    "    val_acc = 100 * correct / total\n",
    "    return val_loss, val_acc\n",
    "\n",
    "train_model(model, train_loader, val_loader, criterion, optimizer, epochs=50)"
   ]
  }
 ],
 "metadata": {
  "kaggle": {
   "accelerator": "gpu",
   "dataSources": [
    {
     "datasetId": 7079186,
     "sourceId": 11317566,
     "sourceType": "datasetVersion"
    }
   ],
   "dockerImageVersionId": 30918,
   "isGpuEnabled": true,
   "isInternetEnabled": true,
   "language": "python",
   "sourceType": "notebook"
  },
  "kernelspec": {
   "display_name": "book_fastai",
   "language": "python",
   "name": "python3"
  },
  "language_info": {
   "codemirror_mode": {
    "name": "ipython",
    "version": 3
   },
   "file_extension": ".py",
   "mimetype": "text/x-python",
   "name": "python",
   "nbconvert_exporter": "python",
   "pygments_lexer": "ipython3",
   "version": "3.12.7"
  }
 },
 "nbformat": 4,
 "nbformat_minor": 4
}
